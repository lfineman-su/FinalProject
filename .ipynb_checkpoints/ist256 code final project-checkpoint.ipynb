{
 "cells": [
  {
   "cell_type": "code",
   "execution_count": null,
   "metadata": {},
   "outputs": [],
   "source": []
  },
  {
   "cell_type": "code",
   "execution_count": 1,
   "metadata": {},
   "outputs": [
    {
     "name": "stdout",
     "output_type": "stream",
     "text": [
      "The three options are: \n",
      " Pirates of the Caribbean \n",
      " Star Wars \n",
      " Clueless\n",
      "Please type out your favorite movie out of these three choices or type 'Quit' to exit program: \n",
      "Clueless\n",
      "Enter a sentence to be translated to Valley Speak language: hey friends, want to go to the movies?\n",
      "hey friends, oh, baby wanna to go to thuh movies?\n"
     ]
    }
   ],
   "source": [
    "import requests #HTTP library used to send HTTP requests\n",
    "import json     #For output structure \n",
    "\n",
    "\n",
    "\n",
    "#    pirateapi = 'G3dPI73P7TGrVR3GfsGlTweF'\n",
    "#    starwarsapi = 'X_vD9OziphcklPgSjBjkHgeF'\n",
    "#    valspeakapi = 'W6szhU9NRuSj4Xc7_DC68geF'\n",
    "    \n",
    "\n",
    "\n",
    "\n",
    "def translatepirate(): # Function developed by Lily\n",
    "\n",
    "    headers = {'X-Funtranslations-Api-Secret': 'G3dPI73P7TGrVR3GfsGlTweF',}\n",
    "\n",
    "    inputsentence = input('Enter a sentence to be translated to pirate language: ')\n",
    "    sentence = {'text': str(inputsentence)}\n",
    "\n",
    "    response = requests.post('https://api.funtranslations.com/translate/pirate.json', headers=headers, data=sentence)\n",
    "    \n",
    "    data = response.json()\n",
    "    \n",
    "    print (data['contents']['translated'])          \n",
    "def translatestarwars(): # Function developed by Lily\n",
    "\n",
    "    headers = {'X-Funtranslations-Api-Secret': 'X_vD9OziphcklPgSjBjkHgeF',}\n",
    "\n",
    "    inputsentence = input('Enter a sentence to be translated to Yoda language: ')\n",
    "    sentence = {'text': str(inputsentence)}\n",
    "\n",
    "    response = requests.post('https://api.funtranslations.com/translate/yoda.json', headers=headers, data=sentence)\n",
    "    \n",
    "    data = response.json()\n",
    "    \n",
    "    print (data['contents']['translated'])    \n",
    "    \n",
    "def translatevalspeak(): # Function developed by Lily\n",
    "\n",
    "    headers = {'X-Funtranslations-Api-Secret': 'W6szhU9NRuSj4Xc7_DC68geF',} #API Secret for Valley Speak API\n",
    "\n",
    "    inputsentence = input('Enter a sentence to be translated to Valley Speak language: ') #Ask user for sentence input\n",
    "    sentence = {'text': str(inputsentence)} #\n",
    "\n",
    "    response = requests.post('https://api.funtranslations.com/translate/valspeak.json', headers=headers, data=sentence) \n",
    "    \n",
    "    data = response.json() \n",
    "    \n",
    "    print (data['contents']['translated'])    \n",
    "    \n",
    "def main(): # Function developed by Evan\n",
    "    while True:\n",
    "        print (\"The three options are: \\n Pirates of the Caribbean \\n Star Wars \\n Clueless\")\n",
    "        movieoptions = input(\"Please type out your favorite movie out of these three choices or type 'Quit' to exit program: \\n\")\n",
    "        movie = str.lower(movieoptions)\n",
    "        \n",
    "        if (movie == 'clueless'):\n",
    "            translatevalspeak()\n",
    "            break\n",
    "        elif (movie == 'star wars'):\n",
    "            translatestarwars()\n",
    "            break\n",
    "        elif (movie == 'pirates of the caribbean'):\n",
    "            translatepirate()\n",
    "            break\n",
    "        elif (movie == 'quit'):\n",
    "            break\n",
    "            \n",
    "            \n",
    "\n",
    "if __name__=='__main__':\n",
    "    main()"
   ]
  },
  {
   "cell_type": "code",
   "execution_count": null,
   "metadata": {},
   "outputs": [],
   "source": []
  }
 ],
 "metadata": {
  "kernelspec": {
   "display_name": "Python 3",
   "language": "python",
   "name": "python3"
  },
  "language_info": {
   "codemirror_mode": {
    "name": "ipython",
    "version": 3
   },
   "file_extension": ".py",
   "mimetype": "text/x-python",
   "name": "python",
   "nbconvert_exporter": "python",
   "pygments_lexer": "ipython3",
   "version": "3.6.5"
  }
 },
 "nbformat": 4,
 "nbformat_minor": 2
}
